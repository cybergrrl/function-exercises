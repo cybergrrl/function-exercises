{
 "cells": [
  {
   "cell_type": "code",
   "execution_count": 67,
   "metadata": {},
   "outputs": [
    {
     "name": "stdout",
     "output_type": "stream",
     "text": [
      "Hello Scout\n"
     ]
    }
   ],
   "source": [
    "def myfunc(name):\n",
    "    print(\"Hello {}\".format(name))\n",
    "\n",
    "myfunc(\"Scout\")"
   ]
  },
  {
   "cell_type": "code",
   "execution_count": 68,
   "metadata": {},
   "outputs": [
    {
     "data": {
      "text/plain": [
       "'Goodbye'"
      ]
     },
     "execution_count": 68,
     "metadata": {},
     "output_type": "execute_result"
    }
   ],
   "source": [
    "def myfunc(x):\n",
    "    if x == True:\n",
    "        return \"Hello\"\n",
    "    elif x == False:\n",
    "        return \"Goodbye\"\n",
    "\n",
    "myfunc(False)"
   ]
  },
  {
   "cell_type": "code",
   "execution_count": 69,
   "metadata": {},
   "outputs": [
    {
     "data": {
      "text/plain": [
       "'Goodbye'"
      ]
     },
     "execution_count": 69,
     "metadata": {},
     "output_type": "execute_result"
    }
   ],
   "source": [
    "def myfunc(x, y, z):\n",
    "    if z == True:\n",
    "        return x\n",
    "    elif z == False:\n",
    "        return y\n",
    "    \n",
    "myfunc('Hello', 'Goodbye', False)"
   ]
  },
  {
   "cell_type": "code",
   "execution_count": 70,
   "metadata": {},
   "outputs": [
    {
     "data": {
      "text/plain": [
       "11"
      ]
     },
     "execution_count": 70,
     "metadata": {},
     "output_type": "execute_result"
    }
   ],
   "source": [
    "#define a function called myfunc that takes in two arguments and returns their sum.\n",
    "def myfunc(x, y):\n",
    "    return x + y\n",
    "\n",
    "myfunc(1, 10)"
   ]
  },
  {
   "cell_type": "code",
   "execution_count": 71,
   "metadata": {},
   "outputs": [
    {
     "data": {
      "text/plain": [
       "False"
      ]
     },
     "execution_count": 71,
     "metadata": {},
     "output_type": "execute_result"
    }
   ],
   "source": [
    "#define a function called is_even that takes in one argument and returns True if teh passed-in value is even, False if not.\n",
    "def is_even(x):\n",
    "    if x%2 == 0:\n",
    "        return True\n",
    "    else:\n",
    "        return False\n",
    "\n",
    "is_even(51)"
   ]
  },
  {
   "cell_type": "code",
   "execution_count": 72,
   "metadata": {
    "scrolled": true
   },
   "outputs": [
    {
     "data": {
      "text/plain": [
       "True"
      ]
     },
     "execution_count": 72,
     "metadata": {},
     "output_type": "execute_result"
    }
   ],
   "source": [
    "#define a function called is_greater that takes in two arguments and returns True if the first value is greater than the second, False if it is less than or equal to the second.\n",
    "def is_greater(x, y):\n",
    "    if x > y:\n",
    "        return True\n",
    "    else:\n",
    "        return False\n",
    "\n",
    "is_greater(33, 22)"
   ]
  },
  {
   "cell_type": "code",
   "execution_count": 73,
   "metadata": {},
   "outputs": [
    {
     "data": {
      "text/plain": [
       "61"
      ]
     },
     "execution_count": 73,
     "metadata": {},
     "output_type": "execute_result"
    }
   ],
   "source": [
    "#definea function called myfunc that takes in an arbitrary number of arguments and returns teh sum of those arguments.\n",
    "def myfunc(*args):\n",
    "    return sum(args)\n",
    "myfunc(1, 11, 40, 8, 1)"
   ]
  },
  {
   "cell_type": "code",
   "execution_count": 74,
   "metadata": {},
   "outputs": [
    {
     "data": {
      "text/plain": [
       "[2, 4, 6, 8]"
      ]
     },
     "execution_count": 74,
     "metadata": {},
     "output_type": "execute_result"
    }
   ],
   "source": [
    "#define a function called myfunc that takes in an arbitrary number of arguments and returns a list containing only those artuments that are even.\n",
    "def myfunc(*args):\n",
    "    mylist = []\n",
    "    for item in args:\n",
    "        if item%2 == 0:\n",
    "            mylist.append(item)\n",
    "    return mylist\n",
    "\n",
    "myfunc(1, 2, 3, 4, 5, 6, 8)"
   ]
  },
  {
   "cell_type": "code",
   "execution_count": 134,
   "metadata": {},
   "outputs": [
    {
     "name": "stdout",
     "output_type": "stream",
     "text": [
      "NeWyOrKsKyLiNe\n",
      "AnOtHeRsTrInG\n"
     ]
    }
   ],
   "source": [
    "#define a function called myfunc that takes in a string and returns a matching string where every even letter is uppercase and every odd letter is lowercase. assume the incoming string only contains letters, no numbers, spaces or punctuation. the output can start with lower or upper case letter.\n",
    "def myfunc(s):\n",
    "    mylist = [letter for letter in s]\n",
    "    for index, letter in enumerate(mylist):\n",
    "        if index%2 == 0:\n",
    "            mylist[index] = letter.upper()\n",
    "        else:\n",
    "            mylist[index] = letter.lower()\n",
    "    return ''.join(mylist)\n",
    "\n",
    "mystring = \"NEwyorkskyline\"\n",
    "\n",
    "print(myfunc(mystring))\n",
    "\n",
    "#alternative version found in solutions which i like almost better because it does not operate on a list and then turns it back into a string (by ChaosAdm at https://gist.github.com/Pierian-Data/5767f49f825dbc9f9bf1357b2152b010):\n",
    "def myotherfunc(words):\n",
    "    newstr = str()\n",
    "    for i,letter in enumerate(words):\n",
    "        if i%2 ==0: \n",
    "            newstr += letter.upper()\n",
    "        else:\n",
    "            newstr +=letter.lower()\n",
    "    return newstr\n",
    "\n",
    "print(myotherfunc(\"ANOTHERstring\"))"
   ]
  }
 ],
 "metadata": {
  "kernelspec": {
   "display_name": "Python 3",
   "language": "python",
   "name": "python3"
  },
  "language_info": {
   "codemirror_mode": {
    "name": "ipython",
    "version": 3
   },
   "file_extension": ".py",
   "mimetype": "text/x-python",
   "name": "python",
   "nbconvert_exporter": "python",
   "pygments_lexer": "ipython3",
   "version": "3.7.1"
  }
 },
 "nbformat": 4,
 "nbformat_minor": 2
}
